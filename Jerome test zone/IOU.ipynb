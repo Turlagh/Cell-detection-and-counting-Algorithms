{
 "cells": [
  {
   "cell_type": "code",
   "execution_count": 7,
   "metadata": {},
   "outputs": [],
   "source": [
    "import numpy as np\n",
    "import cv2"
   ]
  },
  {
   "cell_type": "code",
   "execution_count": 2,
   "metadata": {},
   "outputs": [],
   "source": [
    "import matplotlib.pyplot as plt"
   ]
  },
  {
   "cell_type": "code",
   "execution_count": 16,
   "metadata": {},
   "outputs": [],
   "source": [
    "def compute_IOU(x0, y0, w0, h0, x1, y1, w1, h1):\n",
    "    x0B = x0 + w0\n",
    "    x1B = x1 + w1\n",
    "\n",
    "    y0B = y0 + h0\n",
    "    y1B = y1 + h1\n",
    "\n",
    "    ## Area of the two bounding boxes\n",
    "\n",
    "    area0 = w0*h0\n",
    "    area1 = w1*h1\n",
    "\n",
    "    noIntersection = 0\n",
    "\n",
    "\n",
    "    ## intersection coords\n",
    "\n",
    "    # left x\n",
    "    if x1 > x0:\n",
    "        xInterMin = x1\n",
    "        if xInterMin > x0B:\n",
    "            noIntersection = 1\n",
    "    else:\n",
    "        xInterMin = x0\n",
    "        if xInterMin > x1B:\n",
    "            noIntersection = 1\n",
    "\n",
    "    # right x\n",
    "    if x1B < x0B:\n",
    "        xInterMax = x1B\n",
    "        if xInterMax < x0:\n",
    "            noIntersection = 1\n",
    "    else:\n",
    "        xInterMax = x0B\n",
    "        if xInterMax < x1:\n",
    "            noIntersection = 1\n",
    "\n",
    "    # top y\n",
    "    if y0 > y1:\n",
    "        yInterHigh = y0\n",
    "        if yInterHigh > y1B:\n",
    "            noIntersection = 1\n",
    "    else:\n",
    "        yInterHigh = y1\n",
    "        if yInterHigh > y0B:\n",
    "            noIntersection = 1\n",
    "\n",
    "    # bottom y\n",
    "    if y0B < y1B:\n",
    "        yInterLow = y0B\n",
    "        if yInterLow < y1:\n",
    "            noIntersection = 1\n",
    "    else:\n",
    "        yInterLow = y1B\n",
    "        if yInterLow < y0:\n",
    "            noIntersection = 1\n",
    "\n",
    "    if noIntersection:\n",
    "        return 0\n",
    "\n",
    "\n",
    "    ## finding intersection area\n",
    "\n",
    "    deltaX = xInterMax - xInterMin\n",
    "    deltaY = yInterLow - yInterHigh\n",
    "\n",
    "    intersection = deltaX * deltaY\n",
    "    union = area0 + area1 - intersection\n",
    "\n",
    "    return intersection / union"
   ]
  },
  {
   "cell_type": "code",
   "execution_count": 22,
   "metadata": {},
   "outputs": [
    {
     "name": "stdout",
     "output_type": "stream",
     "text": [
      "IoU between Box 1 and Box 2: 0.1429\n",
      "IoU between Box 1 and Box 3: 0.0000\n",
      "IoU between Box 2 and Box 3: 0.0000\n"
     ]
    },
    {
     "data": {
      "image/png": "[encoded data removed]",
      "text/plain": [
       "<Figure size 640x480 with 1 Axes>"
      ]
     },
     "metadata": {},
     "output_type": "display_data"
    }
   ],
   "source": [
    "def plot_bounding_boxes(img, boxes):\n",
    "    img_with_boxes = img.copy()\n",
    "    for box in boxes:\n",
    "        x, y, w, h = box\n",
    "        cv2.rectangle(img_with_boxes, (x, y), (x + w, y + h), (0, 255, 0), 2)\n",
    "    return img_with_boxes\n",
    "\n",
    "# Generate some test data\n",
    "img_size = (200, 200, 3)\n",
    "image = np.ones(img_size, dtype=np.uint8) * 255  # White background\n",
    "\n",
    "# Define bounding boxes [x, y, width, height]\n",
    "boxes = [\n",
    "    (20, 20, 40, 40),\n",
    "    (40, 40, 40, 40),\n",
    "    (100, 80, 50, 70)\n",
    "]\n",
    "\n",
    "# Plot bounding boxes on the image\n",
    "image_with_boxes = plot_bounding_boxes(image, boxes)\n",
    "\n",
    "# Calculate IoU between all pairs of bounding boxes\n",
    "for i in range(len(boxes)):\n",
    "    for j in range(i + 1, len(boxes)):\n",
    "        iou = compute_IOU(*boxes[i], *boxes[j])\n",
    "        print(f\"IoU between Box {i + 1} and Box {j + 1}: {iou:.4f}\")\n",
    "\n",
    "# Display the result\n",
    "plt.imshow(cv2.cvtColor(image_with_boxes, cv2.COLOR_BGR2RGB))\n",
    "plt.title(\"Image with Bounding Boxes\")\n",
    "plt.axis('off')\n",
    "plt.show()"
   ]
  },
  {
   "cell_type": "code",
   "execution_count": 21,
   "metadata": {},
   "outputs": [
    {
     "name": "stdout",
     "output_type": "stream",
     "text": [
      "0.14285714285714285\n"
     ]
    }
   ],
   "source": [
    "print(0.25/(2-0.25))"
   ]
  }
 ],
 "metadata": {
  "kernelspec": {
   "display_name": "pythonENV3",
   "language": "python",
   "name": "python3"
  },
  "language_info": {
   "codemirror_mode": {
    "name": "ipython",
    "version": 3
   },
   "file_extension": ".py",
   "mimetype": "text/x-python",
   "name": "python",
   "nbconvert_exporter": "python",
   "pygments_lexer": "ipython3",
   "version": "3.10.10"
  }
 },
 "nbformat": 4,
 "nbformat_minor": 2
}
